{
 "cells": [
  {
   "cell_type": "markdown",
   "id": "bc2c075e",
   "metadata": {},
   "source": [
    "## Basics\n",
    "<hr style=\"height:2px;border-width:0;color:black;background-color:black\">\n",
    "One of the most commonly used functions of NumPy are <i>NumPy arrays</i>: The essential difference between <i>lists</i> and <i>NumPy arrays</i> is functionality and speed. <i>lists</i> give you basic operation, but <i>NumPy</i> adds FFTs, convolutions, fast searching, basic statistics, linear algebra, histograms, etc.</br>\n",
    "The most important difference for data science is the ability to do <b>element-wise calculations</b> with <i>NumPy arrays</i>"
   ]
  },
  {
   "cell_type": "markdown",
   "id": "16446ac3",
   "metadata": {},
   "source": [
    "| Operator     | Description   | Documentation |\n",
    "| :------------- | :------------- | :--------|\n",
    "|`np.array([1,2,3])`|1d array|[link](https://docs.scipy.org/doc/numpy/reference/generated/numpy.array.html#numpy.array)|\n",
    "|`np.array([(1,2,3),(4,5,6)])`|2d array|see above|\n",
    "|`np.arange(start,stop,step)`|range array|[link](https://docs.scipy.org/doc/numpy/reference/generated/numpy.arange.html)|"
   ]
  },
  {
   "cell_type": "code",
   "execution_count": 15,
   "id": "9c2c0737",
   "metadata": {},
   "outputs": [
    {
     "name": "stdout",
     "output_type": "stream",
     "text": [
      "[1 2 3]\n",
      "[[1 2 3]\n",
      " [4 5 6]]\n",
      "[0 1 2 3 4 5 6 7 8 9]\n"
     ]
    }
   ],
   "source": [
    "print(np.array([1,2,3]))\n",
    "print(np.array([(1,2,3),(4,5,6)]))\n",
    "print(np.arange(0,10,1))"
   ]
  },
  {
   "cell_type": "markdown",
   "id": "fa259bb4",
   "metadata": {},
   "source": [
    "### Placeholders <a name=\"place\"></a>\n",
    "| Operators | Description |Documentation|\n",
    "| :------------- | :------------- |:---------- |\n",
    "|`np.linspace(0,2,9)`|Add evenly spaced values btw interval to array of length |[link](https://docs.scipy.org/doc/numpy/reference/generated/numpy.linspace.html)|\n",
    "|`np.zeros((1,2))`|Create and array filled with zeros|[link](https://docs.scipy.org/doc/numpy/reference/generated/numpy.zeros.html)|\n",
    "|`np.ones((1,2))`|Creates an array filled with ones|[link](https://docs.scipy.org/doc/numpy/reference/generated/numpy.ones.html#numpy.ones)|\n",
    "|`np.random.random((5,5))`|Creates random array|[link](https://docs.scipy.org/doc/numpy/reference/generated/numpy.random.random.html)|\n",
    "|`np.empty((2,2))`|Creates an empty array|[link](https://docs.scipy.org/doc/numpy/reference/generated/numpy.empty.html)|\n"
   ]
  },
  {
   "cell_type": "code",
   "execution_count": 20,
   "id": "9a57eec3",
   "metadata": {},
   "outputs": [
    {
     "name": "stdout",
     "output_type": "stream",
     "text": [
      "[0.   0.25 0.5  0.75 1.  ]\n",
      "[[0. 0.]]\n",
      "[[1. 1.]\n",
      " [1. 1.]]\n",
      "[[0.29725444 0.46148047 0.9638985 ]\n",
      " [0.94691582 0.37075962 0.5898213 ]\n",
      " [0.7283168  0.64638279 0.58232877]]\n",
      "[[1. 1.]\n",
      " [1. 1.]]\n"
     ]
    }
   ],
   "source": [
    "print(np.linspace(0,1,5))\n",
    "print(np.zeros((1,2)))\n",
    "print(np.ones((2,2)))\n",
    "print(np.random.random((3,3)))\n",
    "print(np.empty((2,2)))"
   ]
  },
  {
   "cell_type": "markdown",
   "id": "a87c0ace",
   "metadata": {},
   "source": [
    "## Array\n",
    "<hr style=\"height:2px;border-width:0;color:black;background-color:black\">\n",
    "\n",
    "### Array Properties\n",
    "\n",
    "|Syntax|Description|Documentation|\n",
    "|:-------------|:-------------|:-----------|\n",
    "|`array.shape`|Dimensions (Rows,Columns)|[link](https://docs.scipy.org/doc/numpy/reference/generated/numpy.ndarray.shape.html)|\n",
    "|`len(array)`|Length of Array|[link](https://docs.python.org/3.5/library/functions.html#len)|\n",
    "|`array.ndim`|Number of Array Dimensions|[link](https://docs.scipy.org/doc/numpy/reference/generated/numpy.ndarray.ndim.html)|\n",
    "|`array.size`|Number of Array Elements|[link](https://docs.scipy.org/doc/numpy/reference/generated/numpy.ndarray.size.html)|\n",
    "|`array.dtype`|Data Type|[link](https://docs.scipy.org/doc/numpy/reference/arrays.dtypes.html)|\n",
    "|`array.astype(type)`|Converts to Data Type|[link](https://docs.scipy.org/doc/numpy/reference/generated/numpy.ndarray.astype.html)|\n",
    "|`type(array)`|Type of Array|[link](https://docs.scipy.org/doc/numpy/user/basics.types.html)|"
   ]
  },
  {
   "cell_type": "code",
   "execution_count": 31,
   "id": "68cdbe55",
   "metadata": {},
   "outputs": [
    {
     "name": "stdout",
     "output_type": "stream",
     "text": [
      "(2, 4)\n",
      "2\n",
      "2\n",
      "float64\n",
      "[[1 1 1 1]\n",
      " [1 1 1 1]]\n",
      "<class 'numpy.ndarray'>\n"
     ]
    }
   ],
   "source": [
    "array = np.ones((2,4))\n",
    "print(array.shape)\n",
    "print(len(array))\n",
    "print(array.ndim)\n",
    "print(array.dtype)\n",
    "print(array.astype(int))\n",
    "print(type(array))"
   ]
  },
  {
   "cell_type": "markdown",
   "id": "3aecd905",
   "metadata": {},
   "source": [
    "### Combining Arrays <a name=\"comb\"></a>\n",
    "|Operator|Description|Documentation|\n",
    "|:---------|:-------|:---------|\n",
    "|`np.concatenate((a,b),axis=0)`|Concatenates 2 arrays, adds to end|[link](https://docs.scipy.org/doc/numpy/reference/generated/numpy.concatenate.html)|\n",
    "|`np.vstack((a,b))`|Stack array row-wise|[link](https://docs.scipy.org/doc/numpy/reference/generated/numpy.vstack.html)|\n",
    "|`np.hstack((a,b))`|Stack array column wise|[link](https://docs.scipy.org/doc/numpy/reference/generated/numpy.hstack.html#numpy.hstack)|\n"
   ]
  },
  {
   "cell_type": "code",
   "execution_count": 40,
   "id": "18321901",
   "metadata": {},
   "outputs": [
    {
     "name": "stdout",
     "output_type": "stream",
     "text": [
      "[[1. 1. 1. 1.]\n",
      " [1. 1. 1. 1.]\n",
      " [0. 0. 0. 0.]\n",
      " [0. 0. 0. 0.]]\n",
      "[[1. 1. 1. 1.]\n",
      " [0. 0. 0. 0.]\n",
      " [0. 0. 0. 0.]]\n",
      "[[1. 1. 1. 1. 0. 0. 0.]\n",
      " [1. 1. 1. 1. 0. 0. 0.]]\n"
     ]
    }
   ],
   "source": [
    "a = np.ones((2,4))\n",
    "b = np.zeros((2,4))\n",
    "print(np.concatenate((a,b),axis=0))\n",
    "c = np.ones((1,4))\n",
    "print(np.vstack((c,b)))\n",
    "b = np.zeros((2,3))\n",
    "print(np.hstack((a,b)))"
   ]
  },
  {
   "cell_type": "markdown",
   "id": "393b8fa5",
   "metadata": {},
   "source": [
    "### Splitting Arrays <a name=\"split\"></a>\n",
    "|Operator|Description|Documentation|\n",
    "|:---------|:-------|:------|\n",
    "|`numpy.split()`||[link](https://docs.scipy.org/doc/numpy/reference/generated/numpy.split.html)|\n",
    "|`np.array_split(array, 3)`|Split an array in sub-arrays of (nearly) identical size|[link](https://docs.scipy.org/doc/numpy/reference/generated/numpy.array_split.html#numpy.array_split)|\n",
    "|`numpy.hsplit(array, 3)`|Split the array horizontally at 3rd index|[link](https://docs.scipy.org/doc/numpy/reference/generated/numpy.hsplit.html#numpy.hsplit)|\n"
   ]
  },
  {
   "cell_type": "code",
   "execution_count": 47,
   "id": "816f6e3f",
   "metadata": {},
   "outputs": [
    {
     "name": "stdout",
     "output_type": "stream",
     "text": [
      "[array([[0, 1, 2, 3, 4, 5, 6, 7]]), array([[ 8,  9, 10, 11, 12, 13, 14, 15]])]\n",
      "[array([[0, 1, 2, 3, 4, 5, 6, 7]]), array([[ 8,  9, 10, 11, 12, 13, 14, 15]]), array([], shape=(0, 8), dtype=int64), array([], shape=(0, 8), dtype=int64)]\n",
      "[array([[0, 1],\n",
      "       [8, 9]]), array([[ 2,  3],\n",
      "       [10, 11]]), array([[ 4,  5],\n",
      "       [12, 13]]), array([[ 6,  7],\n",
      "       [14, 15]])]\n"
     ]
    }
   ],
   "source": [
    "large_array = np.arange(16).reshape((2,8))\n",
    "print(np.split(large_array, 2))\n",
    "print(np.array_split(large_array, 4))\n",
    "print(np.hsplit(large_array,4))"
   ]
  },
  {
   "cell_type": "markdown",
   "id": "eb516d90",
   "metadata": {},
   "source": [
    "### Shaping Arrays <a name=\"shape\"></a>\n",
    "##### TODO\n",
    "|Operator|Description|Documentation|\n",
    "|:---------|:-------|:------|\n",
    "|`other = ndarray.flatten()`|Flattens a 2d array to 1d|[link](https://docs.scipy.org/doc/numpy/reference/generated/numpy.ndarray.flatten.html)|\n",
    "|numpy.flip()|Flips order of elements in 1D array||\n",
    "|np.ndarray[::-1]|Same as above||\n",
    "|ndarray.reshape|||\n",
    "|np.squeeze(ndarray)|||\n",
    "|expand_dims|||"
   ]
  },
  {
   "cell_type": "code",
   "execution_count": 83,
   "id": "d6a7d87d",
   "metadata": {},
   "outputs": [
    {
     "name": "stdout",
     "output_type": "stream",
     "text": [
      "[ 0  1  2  3  4  5  6  7  8  9 10 11 12 13 14 15]\n",
      "[15 14 13 12 11 10  9  8  7  6  5  4  3  2  1  0]\n",
      "[15 14 13 12 11 10  9  8  7  6  5  4  3  2  1  0]\n",
      "[[ 0  1  2  3  4  5  6  7]\n",
      " [ 8  9 10 11 12 13 14 15]]\n",
      "(2, 2, 4) || (4, 2, 2)\n",
      "(2, 2, 4) || (2, 2, 4, 1)\n"
     ]
    }
   ],
   "source": [
    "dim_array = np.arange(16).reshape(2,2,4)\n",
    "print(dim_array.flatten())\n",
    "print(np.flip(dim_array.flatten()))\n",
    "print(dim_array.flatten()[::-1])\n",
    "print(dim_array.reshape(2,-1))\n",
    "print(str(dim_array.shape) + \" || \" + str(np.squeeze(dim_array.reshape(4,2,2,1),axis=3).shape))\n",
    "print(str(dim_array.shape) + \" || \" + str(np.expand_dims(dim_array,axis=3).shape))"
   ]
  },
  {
   "cell_type": "markdown",
   "id": "b79d4d27",
   "metadata": {},
   "source": [
    "### Misc <a name=\"misc\"></a>\n",
    "|Operator|Description|Documentation|\n",
    "|:--------|:--------|:--------|\n",
    "|`other = ndarray.flatten()`|Flattens a 2d array to 1d|[link](https://docs.scipy.org/doc/numpy/reference/generated/numpy.ndarray.flatten.html)|\n",
    "|`array = np.transpose(other)`</br> `array.T` |Transpose array|[link](https://docs.scipy.org/doc/numpy/reference/generated/numpy.transpose.html)|\n",
    "|`inverse = np.linalg.inv(matrix)`|Inverse of a given matrix|[link](https://docs.scipy.org/doc/numpy/reference/generated/numpy.linalg.inv.html) |\n",
    "</br>"
   ]
  },
  {
   "cell_type": "code",
   "execution_count": 96,
   "id": "be863e1b",
   "metadata": {},
   "outputs": [
    {
     "name": "stdout",
     "output_type": "stream",
     "text": [
      "[[10  4  7]\n",
      " [ 2  5  8]\n",
      " [ 3  6  9]]\n",
      "[[ 0.11111111 -0.22222222  0.11111111]\n",
      " [-0.22222222 -2.55555556  1.77777778]\n",
      " [ 0.11111111  2.44444444 -1.55555556]]\n"
     ]
    }
   ],
   "source": [
    "other = np.array([[10, 2, 3],\n",
    "                  [4, 5, 6],\n",
    "                  [7, 8, 9]])\n",
    "print(np.transpose(other))\n",
    "print(np.linalg.inv(other))"
   ]
  },
  {
   "cell_type": "markdown",
   "id": "c482800a",
   "metadata": {},
   "source": [
    "## Mathematics <a name=\"maths\"></a>\n",
    "\n",
    "### Operations <a name=\"ops\"></a>\n",
    "| Operator | Description     |Documentation|\n",
    "| :------------- | :------------- |:---------|\n",
    "|`np.add(x,y)`<br/>`x + y`|Addition|[link](https://docs.scipy.org/doc/numpy/reference/generated/numpy.add.html)|\n",
    "|`np.substract(x,y)`<br/>`x - y`|Subtraction|[link](https://docs.scipy.org/doc/numpy/reference/generated/numpy.subtract.html#numpy.subtract)|\n",
    "|`np.divide(x,y)`<br/>`x / y`|Division|[link](https://docs.scipy.org/doc/numpy/reference/generated/numpy.divide.html#numpy.divide)|\n",
    "|`np.multiply(x,y)`<br/>`x @ y`|Multiplication|[link](https://docs.scipy.org/doc/numpy/reference/generated/numpy.multiply.html#numpy.multiply)|\n",
    "|`np.sqrt(x)`|Square Root|[link](https://docs.scipy.org/doc/numpy/reference/generated/numpy.sqrt.html#numpy.sqrt)|\n",
    "|`np.sin(x)`|Element-wise sine|[link](https://docs.scipy.org/doc/numpy/reference/generated/numpy.sin.html#numpy.sin)|\n",
    "|`np.cos(x)`|Element-wise cosine|[link](https://docs.scipy.org/doc/numpy/reference/generated/numpy.cos.html#numpy.cos)|\n",
    "|`np.log(x)`|Element-wise natural log|[link](https://docs.scipy.org/doc/numpy/reference/generated/numpy.log.html#numpy.log)|\n",
    "|`np.dot(x,y)`|Dot product|[link](https://docs.scipy.org/doc/numpy/reference/generated/numpy.dot.html)|\n",
    "|`np.roots([1,0,-4])`|Roots of a given polynomial coefficients|[link](https://docs.scipy.org/doc/numpy/reference/generated/numpy.roots.html)|\n"
   ]
  }
 ],
 "metadata": {
  "kernelspec": {
   "display_name": "Python 3 (ipykernel)",
   "language": "python",
   "name": "python3"
  },
  "language_info": {
   "codemirror_mode": {
    "name": "ipython",
    "version": 3
   },
   "file_extension": ".py",
   "mimetype": "text/x-python",
   "name": "python",
   "nbconvert_exporter": "python",
   "pygments_lexer": "ipython3",
   "version": "3.10.12"
  }
 },
 "nbformat": 4,
 "nbformat_minor": 5
}
