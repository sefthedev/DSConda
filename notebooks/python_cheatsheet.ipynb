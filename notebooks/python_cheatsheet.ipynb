{
 "cells": [
  {
   "cell_type": "markdown",
   "id": "34c89680",
   "metadata": {},
   "source": [
    "## List"
   ]
  },
  {
   "cell_type": "code",
   "execution_count": 1,
   "id": "8d4fc036",
   "metadata": {},
   "outputs": [],
   "source": [
    "mylist = [i for i in range(0, 10)]\n",
    "mylist[5:10:1] # [from_inclusive : to_exclusive : ±step]"
   ]
  },
  {
   "cell_type": "code",
   "execution_count": 2,
   "id": "fd6e3e5b",
   "metadata": {},
   "outputs": [],
   "source": [
    "mylist.append(50)\n",
    "print(mylist)"
   ]
  },
  {
   "cell_type": "code",
   "execution_count": 3,
   "id": "dd289f4a",
   "metadata": {},
   "outputs": [
    {
     "data": {
      "text/plain": [
       "[0, 1, 2, 3, 4, 5, 6, 7, 8, 9, 50, 0, 1, 2, 3, 4]"
      ]
     },
     "execution_count": 3,
     "metadata": {},
     "output_type": "execute_result"
    }
   ],
   "source": [
    "mylist.extend([i for i in range(0, 5)])\n",
    "mylist"
   ]
  },
  {
   "cell_type": "code",
   "execution_count": 4,
   "id": "cea4fc24",
   "metadata": {},
   "outputs": [
    {
     "data": {
      "text/plain": [
       "[0, 0, 1, 1, 2, 2, 3, 3, 4, 4, 5, 6, 7, 8, 9, 50]"
      ]
     },
     "execution_count": 4,
     "metadata": {},
     "output_type": "execute_result"
    }
   ],
   "source": [
    "mylist.sort()\n",
    "mylist"
   ]
  },
  {
   "cell_type": "code",
   "execution_count": 5,
   "id": "ff1e506d",
   "metadata": {},
   "outputs": [
    {
     "data": {
      "text/plain": [
       "[50, 9, 8, 7, 6, 5, 4, 4, 3, 3, 2, 2, 1, 1, 0, 0]"
      ]
     },
     "execution_count": 5,
     "metadata": {},
     "output_type": "execute_result"
    }
   ],
   "source": [
    "mylist.reverse()\n",
    "mylist"
   ]
  },
  {
   "cell_type": "code",
   "execution_count": 6,
   "id": "5cdf2cf9",
   "metadata": {},
   "outputs": [
    {
     "name": "stdout",
     "output_type": "stream",
     "text": [
      "[50, 9, 8, 7, 6, 5, 4, 4, 3, 3, 2, 2, 1, 1, 0, 0]\n",
      "[0, 0, 1, 1, 2, 2, 3, 3, 4, 4, 5, 6, 7, 8, 9, 50]\n",
      "[0, 0, 1, 1, 2, 2, 3, 3, 4, 4, 5, 6, 7, 8, 9, 50]\n"
     ]
    }
   ],
   "source": [
    "newlist = sorted(mylist)\n",
    "print(mylist)\n",
    "print(newlist)\n",
    "list_iterator = reversed(mylist)\n",
    "print([item for item in list_iterator])"
   ]
  },
  {
   "cell_type": "code",
   "execution_count": 7,
   "id": "d5a91b97",
   "metadata": {},
   "outputs": [
    {
     "data": {
      "text/plain": [
       "0"
      ]
     },
     "execution_count": 7,
     "metadata": {},
     "output_type": "execute_result"
    }
   ],
   "source": [
    "sum_of_elements  = sum(mylist)\n",
    "elementwise_sum  = [sum(pair) for pair in zip(mylist, newlist)]\n",
    "import functools\n",
    "product_of_elems = functools.reduce(lambda out, el: out * el, mylist)\n",
    "product_of_elems"
   ]
  },
  {
   "cell_type": "markdown",
   "id": "06a5b695",
   "metadata": {},
   "source": [
    "## Dictionary\n"
   ]
  },
  {
   "cell_type": "code",
   "execution_count": 8,
   "id": "023e7315",
   "metadata": {},
   "outputs": [
    {
     "data": {
      "text/plain": [
       "{1: 'one',\n",
       " 2: 'two',\n",
       " 3: 'three',\n",
       " 4: 'four',\n",
       " 5: 'five',\n",
       " 6: 'six',\n",
       " 7: 'seven',\n",
       " 8: 'eight',\n",
       " 9: 'nine',\n",
       " 10: 'ten'}"
      ]
     },
     "execution_count": 8,
     "metadata": {},
     "output_type": "execute_result"
    }
   ],
   "source": [
    "numbers_dict = {\n",
    "    1: \"one\",\n",
    "    2: \"two\",\n",
    "    3: \"three\",\n",
    "    4: \"four\",\n",
    "    5: \"five\",\n",
    "    6: \"six\",\n",
    "    7: \"seven\",\n",
    "    8: \"eight\",\n",
    "    9: \"nine\",\n",
    "    10: \"ten\"\n",
    "}\n",
    "numbers_dict"
   ]
  },
  {
   "cell_type": "code",
   "execution_count": 9,
   "id": "023aae0d",
   "metadata": {},
   "outputs": [
    {
     "name": "stdout",
     "output_type": "stream",
     "text": [
      "[1, 2, 3, 4, 5, 6, 7, 8, 9, 10]\n",
      "['one', 'two', 'three', 'four', 'five', 'six', 'seven', 'eight', 'nine', 'ten']\n",
      "[(1, 'one'), (2, 'two'), (3, 'three'), (4, 'four'), (5, 'five'), (6, 'six'), (7, 'seven'), (8, 'eight'), (9, 'nine'), (10, 'ten')]\n"
     ]
    },
    {
     "data": {
      "text/plain": [
       "{50: 0, 9: 0, 8: 1, 7: 1, 6: 2, 5: 2, 4: 3, 3: 4, 2: 6, 1: 8, 0: 50}"
      ]
     },
     "execution_count": 9,
     "metadata": {},
     "output_type": "execute_result"
    }
   ],
   "source": [
    "print([key for key in numbers_dict.keys()])\n",
    "print([value for value in numbers_dict.values()])\n",
    "print([(key, value) for key, value in numbers_dict.items()])\n",
    "\n",
    "new_dictionary = dict(zip(mylist, newlist))\n",
    "new_dictionary"
   ]
  },
  {
   "cell_type": "code",
   "execution_count": 10,
   "id": "a57c02a9",
   "metadata": {},
   "outputs": [
    {
     "data": {
      "text/plain": [
       "{1: 'one',\n",
       " 2: 'two',\n",
       " 3: 'three',\n",
       " 4: 'four',\n",
       " 5: 'five',\n",
       " 6: 'six',\n",
       " 7: 'seven',\n",
       " 8: 'eight',\n",
       " 9: 'nine',\n",
       " 10: 'ten',\n",
       " 11: 'elf'}"
      ]
     },
     "execution_count": 10,
     "metadata": {},
     "output_type": "execute_result"
    }
   ],
   "source": [
    "numbers_dict.update({11: 'elf'})\n",
    "numbers_dict"
   ]
  },
  {
   "cell_type": "code",
   "execution_count": 11,
   "id": "e18eae0a",
   "metadata": {},
   "outputs": [
    {
     "data": {
      "text/plain": [
       "'elf'"
      ]
     },
     "execution_count": 11,
     "metadata": {},
     "output_type": "execute_result"
    }
   ],
   "source": [
    "numbers_dict.pop(11)"
   ]
  },
  {
   "cell_type": "markdown",
   "id": "f4b89263",
   "metadata": {},
   "source": [
    "## Counter"
   ]
  },
  {
   "cell_type": "code",
   "execution_count": 12,
   "id": "f2984dbd",
   "metadata": {},
   "outputs": [
    {
     "name": "stdout",
     "output_type": "stream",
     "text": [
      "Counter({'blue': 3, 'red': 2})\n",
      "Counter({'blue': 3, 'red': 2, 'yellow': 1})\n"
     ]
    },
    {
     "data": {
      "text/plain": [
       "'blue'"
      ]
     },
     "execution_count": 12,
     "metadata": {},
     "output_type": "execute_result"
    }
   ],
   "source": [
    "from collections import Counter\n",
    "colors = ['blue', 'blue', 'blue', 'red', 'red']\n",
    "counter = Counter(colors)\n",
    "print(counter)\n",
    "counter['yellow'] += 1\n",
    "print(counter)\n",
    "counter.most_common()[0][0]"
   ]
  },
  {
   "cell_type": "markdown",
   "id": "34daee67",
   "metadata": {},
   "source": [
    "## Set"
   ]
  },
  {
   "cell_type": "code",
   "execution_count": 13,
   "id": "440d13b2",
   "metadata": {},
   "outputs": [
    {
     "data": {
      "text/plain": [
       "set"
      ]
     },
     "execution_count": 13,
     "metadata": {},
     "output_type": "execute_result"
    }
   ],
   "source": [
    "myset = set()\n",
    "type(myset)"
   ]
  },
  {
   "cell_type": "code",
   "execution_count": 14,
   "id": "6e332c62",
   "metadata": {},
   "outputs": [
    {
     "name": "stdout",
     "output_type": "stream",
     "text": [
      "{0, 1, 2, 3, 4, 5, 6, 7, 8, 9, 50}\n",
      "{5, 6, 7, 8, 9, 10, 11, 12, 13, 14}\n"
     ]
    }
   ],
   "source": [
    "myset.add(0)\n",
    "myset.update(mylist)\n",
    "new_set = set([number for number in range(5,15)])\n",
    "print(myset)\n",
    "print(new_set)"
   ]
  },
  {
   "cell_type": "code",
   "execution_count": 15,
   "id": "dabcbac3",
   "metadata": {},
   "outputs": [
    {
     "name": "stdout",
     "output_type": "stream",
     "text": [
      "{0, 1, 2, 3, 4, 5, 6, 7, 8, 9, 10, 11, 12, 13, 14, 50}\n",
      "{5, 6, 7, 8, 9}\n",
      "{0, 1, 2, 3, 4, 50}\n",
      "{0, 1, 2, 3, 4, 10, 11, 12, 13, 14, 50}\n",
      "False\n",
      "False\n"
     ]
    }
   ],
   "source": [
    "resulting_set = myset.union(new_set)\n",
    "print(resulting_set)\n",
    "resulting_set = myset.intersection(new_set)\n",
    "print(resulting_set)\n",
    "resulting_set = myset.difference(new_set)\n",
    "print(resulting_set)\n",
    "resulting_set = myset.symmetric_difference(new_set)\n",
    "print(resulting_set)\n",
    "resulting_set = myset.issubset(new_set)\n",
    "print(resulting_set)\n",
    "resulting_set = myset.issubset(new_set)\n",
    "print(resulting_set)"
   ]
  },
  {
   "cell_type": "code",
   "execution_count": 16,
   "id": "7d51c7be",
   "metadata": {},
   "outputs": [
    {
     "name": "stdout",
     "output_type": "stream",
     "text": [
      "0\n"
     ]
    }
   ],
   "source": [
    "result = myset.pop()\n",
    "print(result)\n",
    "myset.remove(1)\n",
    "myset.discard(1)"
   ]
  },
  {
   "cell_type": "markdown",
   "id": "164cd2b1",
   "metadata": {},
   "source": [
    "## Frozen Set\n"
   ]
  },
  {
   "cell_type": "code",
   "execution_count": 17,
   "id": "82e1378f",
   "metadata": {},
   "outputs": [
    {
     "data": {
      "text/plain": [
       "frozenset({2, 3, 4, 5, 6, 7, 8, 9, 50})"
      ]
     },
     "execution_count": 17,
     "metadata": {},
     "output_type": "execute_result"
    }
   ],
   "source": [
    "frozen_set = frozenset(myset)\n",
    "frozen_set"
   ]
  },
  {
   "cell_type": "markdown",
   "id": "2ca35ceb",
   "metadata": {},
   "source": [
    "## Tuple\n",
    "\n",
    "Tuple is an immutable and hashable list."
   ]
  },
  {
   "cell_type": "code",
   "execution_count": 18,
   "id": "9a7447e1",
   "metadata": {},
   "outputs": [
    {
     "data": {
      "text/plain": [
       "(50, 9, 8, 7, 6, 5, 4, 4, 3, 3, 2, 2, 1, 1, 0, 0)"
      ]
     },
     "execution_count": 18,
     "metadata": {},
     "output_type": "execute_result"
    }
   ],
   "source": [
    "mytuple = ()\n",
    "mytuple = tuple(mylist)\n",
    "mytuple"
   ]
  },
  {
   "cell_type": "markdown",
   "id": "8d1b2219",
   "metadata": {},
   "source": [
    "### Named Tuple\n",
    "\n",
    "Tuple's subclass with named elements."
   ]
  },
  {
   "cell_type": "code",
   "execution_count": 19,
   "id": "6b48d379",
   "metadata": {},
   "outputs": [
    {
     "name": "stdout",
     "output_type": "stream",
     "text": [
      "1\n",
      "1\n",
      "2\n",
      "2\n"
     ]
    }
   ],
   "source": [
    "from collections import namedtuple\n",
    "Point = namedtuple('Point', 'x y')\n",
    "p = Point(1, y=2)\n",
    "print(p[0])\n",
    "print(p.x)\n",
    "print(p.y)\n",
    "print(getattr(p, 'y'))"
   ]
  },
  {
   "cell_type": "code",
   "execution_count": 20,
   "id": "d93e5447",
   "metadata": {},
   "outputs": [
    {
     "name": "stdout",
     "output_type": "stream",
     "text": [
      "[0, 2, 4, 6, 8]\n"
     ]
    }
   ],
   "source": [
    "myrange = range(0,10, 2) # range(from_inclusive, to_exclusive, ±step_size)\n",
    "print(list(myrange))"
   ]
  },
  {
   "cell_type": "markdown",
   "id": "d81cf663",
   "metadata": {},
   "source": [
    "## Enumerate"
   ]
  },
  {
   "cell_type": "code",
   "execution_count": 21,
   "id": "c1e61e04",
   "metadata": {},
   "outputs": [
    {
     "name": "stdout",
     "output_type": "stream",
     "text": [
      "0 | 50\n",
      "1 | 9\n",
      "2 | 8\n",
      "3 | 7\n",
      "4 | 6\n",
      "5 | 5\n",
      "6 | 4\n",
      "7 | 4\n",
      "8 | 3\n",
      "9 | 3\n",
      "10 | 2\n",
      "11 | 2\n",
      "12 | 1\n",
      "13 | 1\n",
      "14 | 0\n",
      "15 | 0\n"
     ]
    }
   ],
   "source": [
    "for index, element in enumerate(mylist):\n",
    "    print(str(index) + str(' | ') + str(element))"
   ]
  },
  {
   "cell_type": "markdown",
   "id": "cd497d2e",
   "metadata": {},
   "source": [
    "## Iterator"
   ]
  },
  {
   "cell_type": "code",
   "execution_count": 22,
   "id": "c0e9cc59",
   "metadata": {},
   "outputs": [
    {
     "name": "stdout",
     "output_type": "stream",
     "text": [
      "50\n",
      "[9, 8, 7, 6, 5, 4, 4, 3, 3, 2, 2, 1, 1, 0, 0]\n"
     ]
    }
   ],
   "source": [
    "myiterator = iter(mylist)\n",
    "print(next(myiterator))\n",
    "print(list(myiterator))\n"
   ]
  },
  {
   "cell_type": "markdown",
   "id": "d2d784fe",
   "metadata": {},
   "source": [
    "## Itertools"
   ]
  },
  {
   "cell_type": "code",
   "execution_count": 26,
   "id": "53720410",
   "metadata": {},
   "outputs": [
    {
     "name": "stdout",
     "output_type": "stream",
     "text": [
      "[0, 1, 2, 3, 4, 5, 6, 7, 8, 9]\n",
      "[1, 1, 1, 1, 1, 1, 1, 1, 1, 1]\n"
     ]
    },
    {
     "data": {
      "text/plain": [
       "[0, 1, 2, 3, 4, 5, 0, 1, 2, 3, 4, 5, 0, 1, 2]"
      ]
     },
     "execution_count": 26,
     "metadata": {},
     "output_type": "execute_result"
    }
   ],
   "source": [
    "import itertools as it\n",
    "myiterator = it.count(start=0, step=1)\n",
    "new_iterator = iter(lambda: next(myiterator), 10)\n",
    "print(list(new_iterator))\n",
    "new_iterator = it.repeat(1, 10)  # Returns element endlessly or 'times' times.\n",
    "print(list(new_iterator))\n",
    "new_iterator = it.cycle([0,1,2,3,4,5])\n",
    "list(it.islice(new_iterator, 15))"
   ]
  },
  {
   "cell_type": "markdown",
   "id": "2ef22548",
   "metadata": {},
   "source": [
    "## Generator\n",
    "- Any function that contains a yield statement returns a generator.\n",
    "- Generators and iterators are interchangeable."
   ]
  },
  {
   "cell_type": "code",
   "execution_count": 27,
   "id": "fd7201ac",
   "metadata": {},
   "outputs": [],
   "source": [
    "def count(start, step):\n",
    "    while True:\n",
    "        yield start\n",
    "        start += step\n",
    "        \n",
    "counter = count(10, 2)"
   ]
  },
  {
   "cell_type": "code",
   "execution_count": 77,
   "id": "712c31f2",
   "metadata": {},
   "outputs": [
    {
     "data": {
      "text/plain": [
       "108"
      ]
     },
     "execution_count": 77,
     "metadata": {},
     "output_type": "execute_result"
    }
   ],
   "source": [
    "next(counter)"
   ]
  },
  {
   "cell_type": "markdown",
   "id": "9232c62f",
   "metadata": {},
   "source": [
    "## Type\n",
    "- Everything is an object.\n",
    "- Every object has a type.\n",
    "- Type and class are synonymous."
   ]
  },
  {
   "cell_type": "code",
   "execution_count": 79,
   "id": "3bd7a167",
   "metadata": {},
   "outputs": [
    {
     "data": {
      "text/plain": [
       "True"
      ]
     },
     "execution_count": 79,
     "metadata": {},
     "output_type": "execute_result"
    }
   ],
   "source": [
    "mytype = type(1)\n",
    "isinstance(1, mytype)"
   ]
  },
  {
   "cell_type": "markdown",
   "id": "e346c51d",
   "metadata": {},
   "source": [
    "Some types do not have built-in names, so they must be imported:"
   ]
  },
  {
   "cell_type": "code",
   "execution_count": 80,
   "id": "9ba38218",
   "metadata": {},
   "outputs": [],
   "source": [
    "from types import FunctionType, MethodType, LambdaType, GeneratorType, ModuleType"
   ]
  },
  {
   "cell_type": "markdown",
   "id": "7f396694",
   "metadata": {},
   "source": [
    "### Abstract Base Classes\n",
    "Each abstract base class specifies a set of virtual subclasses. These classes are then recognized by isinstance() and issubclass() as subclasses of the ABC, although they are really not. ABC can also manually decide whether or not a specific class is its virtual subclass, usually based on which methods the class has implemented. For instance, Iterable ABC looks for method iter(), while Collection ABC looks for iter(), contains() and len()."
   ]
  },
  {
   "cell_type": "code",
   "execution_count": 81,
   "id": "40f9b25a",
   "metadata": {},
   "outputs": [
    {
     "data": {
      "text/plain": [
       "True"
      ]
     },
     "execution_count": 81,
     "metadata": {},
     "output_type": "execute_result"
    }
   ],
   "source": [
    "from collections.abc import Iterable, Collection, Sequence\n",
    "isinstance([1, 2, 3], Iterable)"
   ]
  },
  {
   "cell_type": "raw",
   "id": "4cbf709a",
   "metadata": {},
   "source": [
    "+------------------+------------+------------+------------+\n",
    "|                  |  Iterable  | Collection |  Sequence  |\n",
    "+------------------+------------+------------+------------+\n",
    "| list, range, str |    yes     |    yes     |    yes     |\n",
    "| dict, set        |    yes     |    yes     |            |\n",
    "| iter             |    yes     |            |            |\n",
    "+------------------+------------+------------+------------+\n",
    "\n",
    "+--------------------+----------+----------+----------+----------+----------+\n",
    "|                    |  Number  |  Complex |   Real   | Rational | Integral |\n",
    "+--------------------+----------+----------+----------+----------+----------+\n",
    "| int                |   yes    |   yes    |   yes    |   yes    |   yes    |\n",
    "| fractions.Fraction |   yes    |   yes    |   yes    |   yes    |          |\n",
    "| float              |   yes    |   yes    |   yes    |          |          |\n",
    "| complex            |   yes    |   yes    |          |          |          |\n",
    "| decimal.Decimal    |   yes    |          |          |          |          |\n",
    "+--------------------+----------+----------+----------+----------+----------+"
   ]
  },
  {
   "cell_type": "code",
   "execution_count": 85,
   "id": "9c0a15aa",
   "metadata": {},
   "outputs": [
    {
     "data": {
      "text/plain": [
       "'bbbccccbbb'"
      ]
     },
     "execution_count": 85,
     "metadata": {},
     "output_type": "execute_result"
    }
   ],
   "source": [
    "mystring = '    aaaabbbccccbbbaaaa        '\n",
    "mystring = mystring.strip()\n",
    "mystring.strip('a')"
   ]
  },
  {
   "cell_type": "code",
   "execution_count": 88,
   "id": "5bd5029a",
   "metadata": {},
   "outputs": [
    {
     "name": "stdout",
     "output_type": "stream",
     "text": [
      "['aaa', 'bbb', 'ccc', 'ddd']\n",
      "aaa-bbb-ccc-ddd\n"
     ]
    }
   ],
   "source": [
    "mystring = 'aaa bbb ccc ddd'\n",
    "print(mystring.split())\n",
    "print('-'.join(mystring.split()))\n"
   ]
  },
  {
   "cell_type": "code",
   "execution_count": 107,
   "id": "b329b123",
   "metadata": {},
   "outputs": [
    {
     "data": {
      "text/plain": [
       "['aaa\\n', 'bbb\\n', 'ccc\\n', 'ddd\\n']"
      ]
     },
     "execution_count": 107,
     "metadata": {},
     "output_type": "execute_result"
    }
   ],
   "source": [
    "splitted_list = mystring.split(sep='bbb', maxsplit=1) \n",
    "mystring = '''aaa \n",
    "bbb\n",
    "ccc\n",
    "ddd\n",
    "''' # On [\\n\\r\\f\\v\\x1c-\\x1e\\x85\\u2028\\u2029] and \\r\\n.\n",
    "splitted_list = mystring.splitlines(keepends = True)\n",
    "splitted_list"
   ]
  },
  {
   "cell_type": "code",
   "execution_count": 115,
   "id": "0eba2bc1",
   "metadata": {},
   "outputs": [
    {
     "name": "stdout",
     "output_type": "stream",
     "text": [
      "True\n",
      "True\n",
      "False\n",
      "8\n",
      "8\n"
     ]
    }
   ],
   "source": [
    "print('bbb' in mystring)\n",
    "print(mystring.startswith('aaa'))\n",
    "print(mystring.endswith('ddd'))\n",
    "print(mystring.find('ccc')) # index\n",
    "print(mystring.index('ccc')) # same but returns error if missing"
   ]
  },
  {
   "cell_type": "code",
   "execution_count": 130,
   "id": "f3388a18",
   "metadata": {},
   "outputs": [
    {
     "name": "stdout",
     "output_type": "stream",
     "text": [
      "aaa\n",
      "bbb\n",
      "eee\n",
      "ddd\n",
      "\n",
      "aaa\n",
      "bbb\n",
      "ccc\n",
      "ddd\n",
      "\n",
      "{97: 101, 98: 102, 99: 103, 100: 104}\n"
     ]
    }
   ],
   "source": [
    "print(mystring.replace('ccc', 'eee', 1)) # Replaces 'ccc' with 'eee' at most '1' times.\n",
    "print(mystring.translate({'eee':'ccc'}))\n",
    "print(mystring.maketrans('abcd','efgh'))"
   ]
  },
  {
   "cell_type": "code",
   "execution_count": 148,
   "id": "06a8ad25",
   "metadata": {},
   "outputs": [
    {
     "name": "stdout",
     "output_type": "stream",
     "text": [
      "h\n",
      "104\n"
     ]
    }
   ],
   "source": [
    "mystring = chr(104)  # Converts int to Unicode character.\n",
    "myunicode = ord(mystring)\n",
    "\n",
    "print(mystring)\n",
    "print(myunicode)"
   ]
  },
  {
   "cell_type": "markdown",
   "id": "ddf5ce7c",
   "metadata": {},
   "source": [
    "Also: 'lstrip()', 'rstrip()' and 'rsplit()'.\n",
    "Also: 'lower()', 'upper()', 'capitalize()' and 'title()'."
   ]
  },
  {
   "cell_type": "code",
   "execution_count": 154,
   "id": "d5aa8937",
   "metadata": {},
   "outputs": [
    {
     "data": {
      "text/plain": [
       "['   hello my', 'friend']"
      ]
     },
     "execution_count": 154,
     "metadata": {},
     "output_type": "execute_result"
    }
   ],
   "source": [
    "mystring = '   hello my friend  '\n",
    "mystring.rsplit(maxsplit = 1)"
   ]
  },
  {
   "cell_type": "markdown",
   "id": "558bfe08",
   "metadata": {},
   "source": [
    "\n",
    "### Property Methods\n",
    "```text\n",
    "+---------------+----------+----------+----------+----------+----------+\n",
    "|               | [ !#$%…] | [a-zA-Z] |  [¼½¾]   |  [²³¹]   |  [0-9]   |\n",
    "+---------------+----------+----------+----------+----------+----------+\n",
    "| isprintable() |   yes    |   yes    |   yes    |   yes    |   yes    |\n",
    "| isalnum()     |          |   yes    |   yes    |   yes    |   yes    |\n",
    "| isnumeric()   |          |          |   yes    |   yes    |   yes    |\n",
    "| isdigit()     |          |          |          |   yes    |   yes    |\n",
    "| isdecimal()   |          |          |          |          |   yes    |\n",
    "+---------------+----------+----------+----------+----------+----------+\n",
    "```\n",
    "* **`'isspace()'` checks for whitespaces: `'[ \\t\\n\\r\\f\\v\\x1c-\\x1f\\x85\\xa0\\u1680…]'`.**\n"
   ]
  }
 ],
 "metadata": {
  "kernelspec": {
   "display_name": "Python 3 (ipykernel)",
   "language": "python",
   "name": "python3"
  },
  "language_info": {
   "codemirror_mode": {
    "name": "ipython",
    "version": 3
   },
   "file_extension": ".py",
   "mimetype": "text/x-python",
   "name": "python",
   "nbconvert_exporter": "python",
   "pygments_lexer": "ipython3",
   "version": "3.10.12"
  }
 },
 "nbformat": 4,
 "nbformat_minor": 5
}
